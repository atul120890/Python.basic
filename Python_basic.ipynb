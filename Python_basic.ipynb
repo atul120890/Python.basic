{
  "nbformat": 4,
  "nbformat_minor": 0,
  "metadata": {
    "colab": {
      "private_outputs": true,
      "provenance": []
    },
    "kernelspec": {
      "name": "python3",
      "display_name": "Python 3"
    },
    "language_info": {
      "name": "python"
    }
  },
  "cells": [
    {
      "cell_type": "code",
      "execution_count": null,
      "metadata": {
        "id": "TS8L1vaxkzff"
      },
      "outputs": [],
      "source": []
    },
    {
      "cell_type": "markdown",
      "source": [
        "#Paython basics\n"
      ],
      "metadata": {
        "id": "zlykKurYlLNH"
      }
    },
    {
      "cell_type": "markdown",
      "source": [],
      "metadata": {
        "id": "rWPsij0elrQf"
      }
    },
    {
      "cell_type": "markdown",
      "source": [
        "1. What is Python, and why is it popular\n",
        "- Python's combination of readability, versatility, extensive libraries, and strong community support has made it one of the most popular programming languages in the world today. Whether you are a beginner or an experienced developer, Python offers tools and frameworks that can help you tackle a wide range of programming tasks effectively\n",
        "2. What is an interpreter in Python\n",
        "\n",
        " - The Python interpreter plays a crucial role in executing Python code, providing an environment where developers can write, test, and debug their programs easily. Its line-by-line execution model, combined with features like dynamic typing and interactive mode, contributes to Python's reputation as a user-friendly programming language\n",
        "3. What are pre-defined keywords in Python.\n",
        "\n",
        "  - Keywords in Python are predefined and reserved words with special meanings. They are a part of Python syntax. Python language keywords can't be used as a variable, function, or identifier name\n",
        "4. Can keywords be used as variable name\n",
        "\n",
        "   - NO\n",
        "5. What is mutability in Python.\n",
        "\n",
        "  - Mutable objects allow you to change their internal state or contents without creating a new object\n",
        "6. Why are lists mutable, but tuples are immutable.\n",
        "\n",
        "  - Lists are mutable, meaning you can modify their contents,butTuples are immutable, meaning once you create a tuple, you cannot modify its contents\n",
        "7.What is the difference between “==” and “is” operators in Python.\n",
        "  \n",
        "  -  The '==' is known as the equality operator and is the known as the identiy operter\n",
        "8. What are logical operators in Python\n",
        "\n",
        "   - In Python, logical operators, also known as Boolean operators, are used to combine or modify boolean expressions, evaluating to either True or False. The main logical operators are and, or, and not.\n",
        "9. What is type casting in Python\n",
        "\n",
        "  - Type casting (or Type Conversion) in Python is the process of converting one data type into another manually..\n",
        " Python provides built-in fucntions for explicit conversion of data types.\n",
        "\n",
        "10. What is the difference between implicit and explicit type casting\n",
        "      - There are two types of typecasting:\n",
        " 1. Implicit Typecasting: Python automatically converts one data type to another data type.\n",
        " 2. Explicit Typecasting: Python user converts one data type to another data type.\n",
        "   \n",
        "11. What is the purpose of conditional statements in Python\n",
        "\n",
        "  - Conditional statements are fundamental programming constructs that allow you to make decisions within your code. They enable your program to react differently to various inputs or situations\n",
        "\n",
        "12. How does the elif statement work\n",
        "\n",
        "    - The “elif” keyword in Python, stands for “else if”. It can be used in conditional statements to check for multiple conditions. For example, if the first condition is false, it moves on to the next “elif” statement to check if that condition is true\n",
        "\n",
        "13. What is the difference between for and while loops\n",
        "\n",
        "  - The major difference between for loop and while loop is that for loop is used when the number of iterations is known, whereas execution is done in a while loop until the statement in the program is proved wrong. For loop also provide a concise way of writing the loop structure.\n",
        "\n",
        "14. Describe a scenario where a while loop is more suitable than a for loop.\n",
        "\n",
        "    - In contrast to a 'for' loop, which is generally used when the number of iterations is known beforehand, a 'while' loop is ideal for situations where the number of iterations is not predetermined and depends on some dynamic condition.\n",
        "\n",
        "\n",
        "  \n",
        "\n",
        "\n",
        "\n",
        "\n"
      ],
      "metadata": {
        "id": "Uk2gsy0Qlykx"
      }
    },
    {
      "cell_type": "code",
      "source": [
        "#1. Write a Python program to print \"Hello, World\"_\n",
        "print(\"Hello,World\")"
      ],
      "metadata": {
        "id": "bzZCtqOj5OBC"
      },
      "execution_count": null,
      "outputs": []
    },
    {
      "cell_type": "code",
      "source": [
        "#2. Write a Python program that displays your name and age\n",
        "name=\"Atul kumar\"\n",
        "age=\"34\"\n",
        "print(name) #Atul kumar\n",
        "print(age) #34\n"
      ],
      "metadata": {
        "id": "vZO0aHAU5zHl"
      },
      "execution_count": null,
      "outputs": []
    },
    {
      "cell_type": "code",
      "source": [
        "''#3. Write code to print all the pre-defined keywords in Python using the keyword library0\n",
        "#  Logical Operators\n",
        "# and - Logical AND eg: True and True -> True, True and False -> False, False and True -> False, False and False -> False\n",
        "# or - Logical OR eg: True or True -> True, True or False -> True, False or True -> True, False or False -> False\n",
        "# not - Logical NOT eg: not True -> False, not False ->'''\n"
      ],
      "metadata": {
        "id": "zAJuoXIR8VeO"
      },
      "execution_count": null,
      "outputs": []
    },
    {
      "cell_type": "code",
      "source": [
        "#4 Write a program that checks if a given word is a Python keyword\n",
        "# A student wants to check if he scored more than the passing marks and more than the average marks\n",
        "student_marks = 35\n",
        "passing_marks = 40\n",
        "average_marks = 60\n",
        "print(student_marks>passing_marks and student_marks>average_marks) # 35>40 and 35>60 -> False and False -> False\n",
        "\n"
      ],
      "metadata": {
        "id": "E-dwYAeD-1do"
      },
      "execution_count": null,
      "outputs": []
    },
    {
      "cell_type": "code",
      "source": [
        "#6 Write a function to demonstrate the behavior of mutable and immutable arguments\n",
        "l = [10, -4, 23, 5, 0]\n",
        "print(l)\n",
        "print(type(l))\n",
        "\n",
        "# [10, -4, 23, 5, 0]\n",
        "#   0   1   2  3  4\n",
        "\n",
        "# Accessing the elements of the list\n",
        "print(l[0]) # 10\n",
        "print(l[1]) # -4\n",
        "print(l[4]) # 0\n",
        "\n",
        "l[0] = \"Atul\"\n",
        "print(l)\n",
        "#\n"
      ],
      "metadata": {
        "id": "kVsQXt3lwIeF"
      },
      "execution_count": null,
      "outputs": []
    },
    {
      "cell_type": "markdown",
      "source": [],
      "metadata": {
        "id": "uPaw-eiAf0D-"
      }
    },
    {
      "cell_type": "code",
      "source": [
        " #Write a program to demonstrate the use of logical operators\n",
        "\n",
        "# Data validation in Financial Applications\n",
        "yesterday_closing_price = 100\n",
        "today_opening_price = 101\n",
        "# Compare the yesterday's closing price with today's opening price\n",
        "print(yesterday_closing_price>today_opening_price) # False\n",
        "\n"
      ],
      "metadata": {
        "id": "zPhLJcWZ_ikM"
      },
      "execution_count": null,
      "outputs": []
    },
    {
      "cell_type": "code",
      "source": [
        "# Write a Python program to convert user input from string to integer, float, and boolean types\n",
        "# Converting a string into an integer\n",
        "number_str = \"10\"\n",
        "number_int = int(number_str)\n",
        "print(number_int)  # Output: 10\n",
        "\n",
        "# Converting a string into a float\n",
        "decimal_str = \"10.5\"\n",
        "decimal_float = float(decimal_str)\n",
        "print(decimal_float)  # Output: 10.5\n",
        "# Converting a string into an Booleans\n",
        "decimal_str>=number_str\n",
        "print(decimal_str>=number_str) #True"
      ],
      "metadata": {
        "id": "BmUQZXbiXg3D"
      },
      "execution_count": null,
      "outputs": []
    },
    {
      "cell_type": "code",
      "source": [
        "# Write code to demonstrate type casting with list elements\n",
        "a = [1, 4, 9, 10, 19]\n",
        "b = [[5, 6, 8], [8, 5, 3], [9, 10, 3]]\n",
        "\n",
        "c = [str(x) for x in a]\n",
        "d = [[str(x) for x in sub] for sub in b]\n",
        "\n",
        "print(c)\n",
        "print(d)\n"
      ],
      "metadata": {
        "id": "CDtFZXmC5M0D"
      },
      "execution_count": null,
      "outputs": []
    },
    {
      "cell_type": "code",
      "source": [
        "# Write a program that checks if a number is positive, negative, or zero\n",
        "# Python program to check whether\n",
        "# the number is positive, negative\n",
        "# or equal to zero\n",
        "\n",
        "def check(n):\n",
        "\n",
        "\t# if the number is positive\n",
        "\tif n > 0:\n",
        "\t\tprint(\"Positive\")\n",
        "\n",
        "\t# if the number is negative\n",
        "\telif n < 0:\n",
        "\t\tprint(\"Negative\")\n",
        "\n",
        "\t# if the number is equal to\n",
        "\t# zero\n",
        "\telse:\n",
        "\t\tprint(\"Equal to zero\")\n",
        "\n",
        "# Driver Code\n",
        "check(5)\n",
        "check(0)\n",
        "check(-5)\n",
        "\n"
      ],
      "metadata": {
        "id": "tbBk96P7dMyG"
      },
      "execution_count": null,
      "outputs": []
    },
    {
      "cell_type": "code",
      "source": [],
      "metadata": {
        "id": "rPq06cml43hc"
      },
      "execution_count": null,
      "outputs": []
    },
    {
      "cell_type": "code",
      "source": [
        " #Write a for loop to print numbers from 1 to 10\n",
        "print(\"Print integers 1 to 10 using for loop:\")\n",
        "for i in range(1, 11): # iterates for 10 times\n",
        "    print(i)\n",
        "\n"
      ],
      "metadata": {
        "id": "6uBDdQE5h5WH"
      },
      "execution_count": null,
      "outputs": []
    },
    {
      "cell_type": "code",
      "source": [
        " #Write a Python program to find the sum of all even numbers between 1 and 50=\n",
        "even_sum=0\n",
        "for num in range(50):\n",
        "    even_sum=even_sum+num\n",
        "    print(even_sum)\n",
        "\n",
        "\n"
      ],
      "metadata": {
        "id": "tdWHr3Y2oj__"
      },
      "execution_count": null,
      "outputs": []
    },
    {
      "cell_type": "code",
      "source": [
        "# Write a program to reverse a string using a while loop\n",
        "name= str((input(\"Enter the name: \")))\n",
        "i = len(name) - 1\n",
        "\n",
        "while i >= 0:\n",
        "    print(name[i], end = '')\n",
        "    i = i - 1\n",
        "\n"
      ],
      "metadata": {
        "id": "QqzeLK8ujFDD"
      },
      "execution_count": null,
      "outputs": []
    },
    {
      "cell_type": "code",
      "source": [
        "#  An integer number\n",
        "num = 5\n",
        "\n",
        "# Initialize the factorial variable to 1\n",
        "factorial = 1\n",
        "\n",
        "# Calculate the factorial using a for loop\n",
        "for i in range(1, num + 1):\n",
        "    factorial *= i\n",
        "\n",
        "# Output: The factorial of the number\n",
        "print(f\"The factorial of {num} is {factorial}\")\n"
      ],
      "metadata": {
        "id": "F95xYzO3w8EV"
      },
      "execution_count": null,
      "outputs": []
    },
    {
      "cell_type": "code",
      "source": [],
      "metadata": {
        "id": "hiaOm6CQvcXx"
      },
      "execution_count": null,
      "outputs": []
    },
    {
      "cell_type": "markdown",
      "source": [
        "\n"
      ],
      "metadata": {
        "id": "msMvPg3I42N_"
      }
    },
    {
      "cell_type": "markdown",
      "source": [],
      "metadata": {
        "id": "6qyjb1rNllmH"
      }
    },
    {
      "cell_type": "markdown",
      "source": [],
      "metadata": {
        "id": "oPg5fBcnlSFS"
      }
    },
    {
      "cell_type": "markdown",
      "source": [],
      "metadata": {
        "id": "l4UXXgvVk1Gz"
      }
    }
  ]
}